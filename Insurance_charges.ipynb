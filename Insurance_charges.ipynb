{
 "cells": [
  {
   "cell_type": "code",
   "execution_count": 1,
   "metadata": {},
   "outputs": [],
   "source": [
    "import numpy as np\n",
    "import pandas as pd\n",
    "import matplotlib.pyplot as plt"
   ]
  },
  {
   "cell_type": "code",
   "execution_count": 2,
   "metadata": {},
   "outputs": [],
   "source": [
    "df=pd.read_csv('Insurance.csv')"
   ]
  },
  {
   "cell_type": "code",
   "execution_count": 3,
   "metadata": {},
   "outputs": [
    {
     "data": {
      "text/html": [
       "<div>\n",
       "<style scoped>\n",
       "    .dataframe tbody tr th:only-of-type {\n",
       "        vertical-align: middle;\n",
       "    }\n",
       "\n",
       "    .dataframe tbody tr th {\n",
       "        vertical-align: top;\n",
       "    }\n",
       "\n",
       "    .dataframe thead th {\n",
       "        text-align: right;\n",
       "    }\n",
       "</style>\n",
       "<table border=\"1\" class=\"dataframe\">\n",
       "  <thead>\n",
       "    <tr style=\"text-align: right;\">\n",
       "      <th></th>\n",
       "      <th>age</th>\n",
       "      <th>sex</th>\n",
       "      <th>bmi</th>\n",
       "      <th>children</th>\n",
       "      <th>smoker</th>\n",
       "      <th>region</th>\n",
       "      <th>charges</th>\n",
       "    </tr>\n",
       "  </thead>\n",
       "  <tbody>\n",
       "    <tr>\n",
       "      <th>0</th>\n",
       "      <td>19</td>\n",
       "      <td>female</td>\n",
       "      <td>27.900</td>\n",
       "      <td>0</td>\n",
       "      <td>yes</td>\n",
       "      <td>southwest</td>\n",
       "      <td>16884.92400</td>\n",
       "    </tr>\n",
       "    <tr>\n",
       "      <th>1</th>\n",
       "      <td>18</td>\n",
       "      <td>male</td>\n",
       "      <td>33.770</td>\n",
       "      <td>1</td>\n",
       "      <td>no</td>\n",
       "      <td>southeast</td>\n",
       "      <td>1725.55230</td>\n",
       "    </tr>\n",
       "    <tr>\n",
       "      <th>2</th>\n",
       "      <td>28</td>\n",
       "      <td>male</td>\n",
       "      <td>33.000</td>\n",
       "      <td>3</td>\n",
       "      <td>no</td>\n",
       "      <td>southeast</td>\n",
       "      <td>4449.46200</td>\n",
       "    </tr>\n",
       "    <tr>\n",
       "      <th>3</th>\n",
       "      <td>33</td>\n",
       "      <td>male</td>\n",
       "      <td>22.705</td>\n",
       "      <td>0</td>\n",
       "      <td>no</td>\n",
       "      <td>northwest</td>\n",
       "      <td>21984.47061</td>\n",
       "    </tr>\n",
       "    <tr>\n",
       "      <th>4</th>\n",
       "      <td>32</td>\n",
       "      <td>male</td>\n",
       "      <td>28.880</td>\n",
       "      <td>0</td>\n",
       "      <td>no</td>\n",
       "      <td>northwest</td>\n",
       "      <td>3866.85520</td>\n",
       "    </tr>\n",
       "    <tr>\n",
       "      <th>...</th>\n",
       "      <td>...</td>\n",
       "      <td>...</td>\n",
       "      <td>...</td>\n",
       "      <td>...</td>\n",
       "      <td>...</td>\n",
       "      <td>...</td>\n",
       "      <td>...</td>\n",
       "    </tr>\n",
       "    <tr>\n",
       "      <th>1333</th>\n",
       "      <td>50</td>\n",
       "      <td>male</td>\n",
       "      <td>30.970</td>\n",
       "      <td>3</td>\n",
       "      <td>no</td>\n",
       "      <td>northwest</td>\n",
       "      <td>10600.54830</td>\n",
       "    </tr>\n",
       "    <tr>\n",
       "      <th>1334</th>\n",
       "      <td>18</td>\n",
       "      <td>female</td>\n",
       "      <td>31.920</td>\n",
       "      <td>0</td>\n",
       "      <td>no</td>\n",
       "      <td>northeast</td>\n",
       "      <td>2205.98080</td>\n",
       "    </tr>\n",
       "    <tr>\n",
       "      <th>1335</th>\n",
       "      <td>18</td>\n",
       "      <td>female</td>\n",
       "      <td>36.850</td>\n",
       "      <td>0</td>\n",
       "      <td>no</td>\n",
       "      <td>southeast</td>\n",
       "      <td>1629.83350</td>\n",
       "    </tr>\n",
       "    <tr>\n",
       "      <th>1336</th>\n",
       "      <td>21</td>\n",
       "      <td>female</td>\n",
       "      <td>25.800</td>\n",
       "      <td>0</td>\n",
       "      <td>no</td>\n",
       "      <td>southwest</td>\n",
       "      <td>2007.94500</td>\n",
       "    </tr>\n",
       "    <tr>\n",
       "      <th>1337</th>\n",
       "      <td>61</td>\n",
       "      <td>female</td>\n",
       "      <td>29.070</td>\n",
       "      <td>0</td>\n",
       "      <td>yes</td>\n",
       "      <td>northwest</td>\n",
       "      <td>29141.36030</td>\n",
       "    </tr>\n",
       "  </tbody>\n",
       "</table>\n",
       "<p>1338 rows × 7 columns</p>\n",
       "</div>"
      ],
      "text/plain": [
       "      age     sex     bmi  children smoker     region      charges\n",
       "0      19  female  27.900         0    yes  southwest  16884.92400\n",
       "1      18    male  33.770         1     no  southeast   1725.55230\n",
       "2      28    male  33.000         3     no  southeast   4449.46200\n",
       "3      33    male  22.705         0     no  northwest  21984.47061\n",
       "4      32    male  28.880         0     no  northwest   3866.85520\n",
       "...   ...     ...     ...       ...    ...        ...          ...\n",
       "1333   50    male  30.970         3     no  northwest  10600.54830\n",
       "1334   18  female  31.920         0     no  northeast   2205.98080\n",
       "1335   18  female  36.850         0     no  southeast   1629.83350\n",
       "1336   21  female  25.800         0     no  southwest   2007.94500\n",
       "1337   61  female  29.070         0    yes  northwest  29141.36030\n",
       "\n",
       "[1338 rows x 7 columns]"
      ]
     },
     "execution_count": 3,
     "metadata": {},
     "output_type": "execute_result"
    }
   ],
   "source": [
    "df"
   ]
  },
  {
   "cell_type": "code",
   "execution_count": 4,
   "metadata": {},
   "outputs": [
    {
     "data": {
      "text/html": [
       "<div>\n",
       "<style scoped>\n",
       "    .dataframe tbody tr th:only-of-type {\n",
       "        vertical-align: middle;\n",
       "    }\n",
       "\n",
       "    .dataframe tbody tr th {\n",
       "        vertical-align: top;\n",
       "    }\n",
       "\n",
       "    .dataframe thead th {\n",
       "        text-align: right;\n",
       "    }\n",
       "</style>\n",
       "<table border=\"1\" class=\"dataframe\">\n",
       "  <thead>\n",
       "    <tr style=\"text-align: right;\">\n",
       "      <th></th>\n",
       "      <th>age</th>\n",
       "      <th>bmi</th>\n",
       "      <th>children</th>\n",
       "      <th>charges</th>\n",
       "    </tr>\n",
       "  </thead>\n",
       "  <tbody>\n",
       "    <tr>\n",
       "      <th>count</th>\n",
       "      <td>1338.000000</td>\n",
       "      <td>1338.000000</td>\n",
       "      <td>1338.000000</td>\n",
       "      <td>1338.000000</td>\n",
       "    </tr>\n",
       "    <tr>\n",
       "      <th>mean</th>\n",
       "      <td>39.207025</td>\n",
       "      <td>30.663397</td>\n",
       "      <td>1.094918</td>\n",
       "      <td>13270.422265</td>\n",
       "    </tr>\n",
       "    <tr>\n",
       "      <th>std</th>\n",
       "      <td>14.049960</td>\n",
       "      <td>6.098187</td>\n",
       "      <td>1.205493</td>\n",
       "      <td>12110.011237</td>\n",
       "    </tr>\n",
       "    <tr>\n",
       "      <th>min</th>\n",
       "      <td>18.000000</td>\n",
       "      <td>15.960000</td>\n",
       "      <td>0.000000</td>\n",
       "      <td>1121.873900</td>\n",
       "    </tr>\n",
       "    <tr>\n",
       "      <th>25%</th>\n",
       "      <td>27.000000</td>\n",
       "      <td>26.296250</td>\n",
       "      <td>0.000000</td>\n",
       "      <td>4740.287150</td>\n",
       "    </tr>\n",
       "    <tr>\n",
       "      <th>50%</th>\n",
       "      <td>39.000000</td>\n",
       "      <td>30.400000</td>\n",
       "      <td>1.000000</td>\n",
       "      <td>9382.033000</td>\n",
       "    </tr>\n",
       "    <tr>\n",
       "      <th>75%</th>\n",
       "      <td>51.000000</td>\n",
       "      <td>34.693750</td>\n",
       "      <td>2.000000</td>\n",
       "      <td>16639.912515</td>\n",
       "    </tr>\n",
       "    <tr>\n",
       "      <th>max</th>\n",
       "      <td>64.000000</td>\n",
       "      <td>53.130000</td>\n",
       "      <td>5.000000</td>\n",
       "      <td>63770.428010</td>\n",
       "    </tr>\n",
       "  </tbody>\n",
       "</table>\n",
       "</div>"
      ],
      "text/plain": [
       "               age          bmi     children       charges\n",
       "count  1338.000000  1338.000000  1338.000000   1338.000000\n",
       "mean     39.207025    30.663397     1.094918  13270.422265\n",
       "std      14.049960     6.098187     1.205493  12110.011237\n",
       "min      18.000000    15.960000     0.000000   1121.873900\n",
       "25%      27.000000    26.296250     0.000000   4740.287150\n",
       "50%      39.000000    30.400000     1.000000   9382.033000\n",
       "75%      51.000000    34.693750     2.000000  16639.912515\n",
       "max      64.000000    53.130000     5.000000  63770.428010"
      ]
     },
     "execution_count": 4,
     "metadata": {},
     "output_type": "execute_result"
    }
   ],
   "source": [
    "df.describe()"
   ]
  },
  {
   "cell_type": "raw",
   "metadata": {},
   "source": [
    "Checking for any null values"
   ]
  },
  {
   "cell_type": "code",
   "execution_count": 5,
   "metadata": {},
   "outputs": [
    {
     "data": {
      "text/plain": [
       "age         False\n",
       "sex         False\n",
       "bmi         False\n",
       "children    False\n",
       "smoker      False\n",
       "region      False\n",
       "charges     False\n",
       "dtype: bool"
      ]
     },
     "execution_count": 5,
     "metadata": {},
     "output_type": "execute_result"
    }
   ],
   "source": [
    "df.isnull().any()"
   ]
  },
  {
   "cell_type": "raw",
   "metadata": {},
   "source": [
    "Taking care of categorical data"
   ]
  },
  {
   "cell_type": "code",
   "execution_count": 6,
   "metadata": {},
   "outputs": [
    {
     "data": {
      "text/plain": [
       "male      676\n",
       "female    662\n",
       "Name: sex, dtype: int64"
      ]
     },
     "execution_count": 6,
     "metadata": {},
     "output_type": "execute_result"
    }
   ],
   "source": [
    "df['sex'].value_counts()"
   ]
  },
  {
   "cell_type": "code",
   "execution_count": 7,
   "metadata": {},
   "outputs": [
    {
     "data": {
      "text/plain": [
       "no     1064\n",
       "yes     274\n",
       "Name: smoker, dtype: int64"
      ]
     },
     "execution_count": 7,
     "metadata": {},
     "output_type": "execute_result"
    }
   ],
   "source": [
    "df['smoker'].value_counts()"
   ]
  },
  {
   "cell_type": "code",
   "execution_count": 8,
   "metadata": {},
   "outputs": [
    {
     "data": {
      "text/plain": [
       "southeast    364\n",
       "southwest    325\n",
       "northwest    325\n",
       "northeast    324\n",
       "Name: region, dtype: int64"
      ]
     },
     "execution_count": 8,
     "metadata": {},
     "output_type": "execute_result"
    }
   ],
   "source": [
    "df['region'].value_counts()"
   ]
  },
  {
   "cell_type": "code",
   "execution_count": 9,
   "metadata": {},
   "outputs": [],
   "source": [
    "from sklearn.compose import ColumnTransformer\n",
    "from sklearn.preprocessing import OneHotEncoder"
   ]
  },
  {
   "cell_type": "code",
   "execution_count": 10,
   "metadata": {
    "scrolled": true
   },
   "outputs": [
    {
     "data": {
      "text/plain": [
       "array([[0.00000000e+00, 1.00000000e+00, 0.00000000e+00, ...,\n",
       "        2.79000000e+01, 0.00000000e+00, 1.68849240e+04],\n",
       "       [1.00000000e+00, 0.00000000e+00, 0.00000000e+00, ...,\n",
       "        3.37700000e+01, 1.00000000e+00, 1.72555230e+03],\n",
       "       [1.00000000e+00, 0.00000000e+00, 0.00000000e+00, ...,\n",
       "        3.30000000e+01, 3.00000000e+00, 4.44946200e+03],\n",
       "       ...,\n",
       "       [0.00000000e+00, 0.00000000e+00, 0.00000000e+00, ...,\n",
       "        3.68500000e+01, 0.00000000e+00, 1.62983350e+03],\n",
       "       [0.00000000e+00, 0.00000000e+00, 0.00000000e+00, ...,\n",
       "        2.58000000e+01, 0.00000000e+00, 2.00794500e+03],\n",
       "       [0.00000000e+00, 1.00000000e+00, 1.00000000e+00, ...,\n",
       "        2.90700000e+01, 0.00000000e+00, 2.91413603e+04]])"
      ]
     },
     "execution_count": 10,
     "metadata": {},
     "output_type": "execute_result"
    }
   ],
   "source": [
    "ct=ColumnTransformer([(\"on\",OneHotEncoder(drop='first'),[1,4,5])],remainder=\"passthrough\")\n",
    "df=ct.fit_transform(df)\n",
    "df"
   ]
  },
  {
   "cell_type": "raw",
   "metadata": {},
   "source": [
    "Now checking for any outliers in the model using z score"
   ]
  },
  {
   "cell_type": "code",
   "execution_count": 11,
   "metadata": {},
   "outputs": [],
   "source": [
    "from scipy import stats"
   ]
  },
  {
   "cell_type": "code",
   "execution_count": 12,
   "metadata": {
    "scrolled": true
   },
   "outputs": [
    {
     "data": {
      "text/plain": [
       "array([[1.0105187 , 1.97058663, 0.56641788, ..., 0.45332   , 0.90861367,\n",
       "        0.2985838 ],\n",
       "       [0.98959079, 0.5074631 , 0.56641788, ..., 0.5096211 , 0.07876719,\n",
       "        0.95368917],\n",
       "       [0.98959079, 0.5074631 , 0.56641788, ..., 0.38330685, 1.58092576,\n",
       "        0.72867467],\n",
       "       ...,\n",
       "       [1.0105187 , 0.5074631 , 0.56641788, ..., 1.0148781 , 0.90861367,\n",
       "        0.96159623],\n",
       "       [1.0105187 , 0.5074631 , 0.56641788, ..., 0.79781341, 0.90861367,\n",
       "        0.93036151],\n",
       "       [1.0105187 , 1.97058663, 1.76548098, ..., 0.26138796, 0.90861367,\n",
       "        1.31105347]])"
      ]
     },
     "execution_count": 12,
     "metadata": {},
     "output_type": "execute_result"
    }
   ],
   "source": [
    "z=np.abs(stats.zscore(df))\n",
    "z"
   ]
  },
  {
   "cell_type": "code",
   "execution_count": 13,
   "metadata": {},
   "outputs": [
    {
     "data": {
      "text/plain": [
       "(array([  32,   34,   71,  116,  166,  413,  425,  438,  543,  568,  577,\n",
       "         640,  819,  847,  877,  932,  937,  969,  984, 1047, 1085, 1116,\n",
       "        1130, 1146, 1230, 1245, 1272, 1300, 1317], dtype=int64),\n",
       " array([7, 8, 7, 6, 7, 7, 7, 7, 8, 7, 8, 7, 8, 6, 7, 7, 7, 7, 7, 6, 7, 7,\n",
       "        7, 8, 8, 7, 7, 8, 6], dtype=int64))"
      ]
     },
     "execution_count": 13,
     "metadata": {},
     "output_type": "execute_result"
    }
   ],
   "source": [
    "threshold=3\n",
    "np.where(z>threshold)"
   ]
  },
  {
   "cell_type": "code",
   "execution_count": 14,
   "metadata": {},
   "outputs": [
    {
     "data": {
      "text/html": [
       "<div>\n",
       "<style scoped>\n",
       "    .dataframe tbody tr th:only-of-type {\n",
       "        vertical-align: middle;\n",
       "    }\n",
       "\n",
       "    .dataframe tbody tr th {\n",
       "        vertical-align: top;\n",
       "    }\n",
       "\n",
       "    .dataframe thead th {\n",
       "        text-align: right;\n",
       "    }\n",
       "</style>\n",
       "<table border=\"1\" class=\"dataframe\">\n",
       "  <thead>\n",
       "    <tr style=\"text-align: right;\">\n",
       "      <th></th>\n",
       "      <th>0</th>\n",
       "      <th>1</th>\n",
       "      <th>2</th>\n",
       "      <th>3</th>\n",
       "      <th>4</th>\n",
       "      <th>5</th>\n",
       "      <th>6</th>\n",
       "      <th>7</th>\n",
       "      <th>8</th>\n",
       "    </tr>\n",
       "  </thead>\n",
       "  <tbody>\n",
       "    <tr>\n",
       "      <th>0</th>\n",
       "      <td>0.0</td>\n",
       "      <td>1.0</td>\n",
       "      <td>0.0</td>\n",
       "      <td>0.0</td>\n",
       "      <td>1.0</td>\n",
       "      <td>19.0</td>\n",
       "      <td>27.900</td>\n",
       "      <td>0.0</td>\n",
       "      <td>16884.92400</td>\n",
       "    </tr>\n",
       "    <tr>\n",
       "      <th>1</th>\n",
       "      <td>1.0</td>\n",
       "      <td>0.0</td>\n",
       "      <td>0.0</td>\n",
       "      <td>1.0</td>\n",
       "      <td>0.0</td>\n",
       "      <td>18.0</td>\n",
       "      <td>33.770</td>\n",
       "      <td>1.0</td>\n",
       "      <td>1725.55230</td>\n",
       "    </tr>\n",
       "    <tr>\n",
       "      <th>2</th>\n",
       "      <td>1.0</td>\n",
       "      <td>0.0</td>\n",
       "      <td>0.0</td>\n",
       "      <td>1.0</td>\n",
       "      <td>0.0</td>\n",
       "      <td>28.0</td>\n",
       "      <td>33.000</td>\n",
       "      <td>3.0</td>\n",
       "      <td>4449.46200</td>\n",
       "    </tr>\n",
       "    <tr>\n",
       "      <th>3</th>\n",
       "      <td>1.0</td>\n",
       "      <td>0.0</td>\n",
       "      <td>1.0</td>\n",
       "      <td>0.0</td>\n",
       "      <td>0.0</td>\n",
       "      <td>33.0</td>\n",
       "      <td>22.705</td>\n",
       "      <td>0.0</td>\n",
       "      <td>21984.47061</td>\n",
       "    </tr>\n",
       "    <tr>\n",
       "      <th>4</th>\n",
       "      <td>1.0</td>\n",
       "      <td>0.0</td>\n",
       "      <td>1.0</td>\n",
       "      <td>0.0</td>\n",
       "      <td>0.0</td>\n",
       "      <td>32.0</td>\n",
       "      <td>28.880</td>\n",
       "      <td>0.0</td>\n",
       "      <td>3866.85520</td>\n",
       "    </tr>\n",
       "    <tr>\n",
       "      <th>...</th>\n",
       "      <td>...</td>\n",
       "      <td>...</td>\n",
       "      <td>...</td>\n",
       "      <td>...</td>\n",
       "      <td>...</td>\n",
       "      <td>...</td>\n",
       "      <td>...</td>\n",
       "      <td>...</td>\n",
       "      <td>...</td>\n",
       "    </tr>\n",
       "    <tr>\n",
       "      <th>1333</th>\n",
       "      <td>1.0</td>\n",
       "      <td>0.0</td>\n",
       "      <td>1.0</td>\n",
       "      <td>0.0</td>\n",
       "      <td>0.0</td>\n",
       "      <td>50.0</td>\n",
       "      <td>30.970</td>\n",
       "      <td>3.0</td>\n",
       "      <td>10600.54830</td>\n",
       "    </tr>\n",
       "    <tr>\n",
       "      <th>1334</th>\n",
       "      <td>0.0</td>\n",
       "      <td>0.0</td>\n",
       "      <td>0.0</td>\n",
       "      <td>0.0</td>\n",
       "      <td>0.0</td>\n",
       "      <td>18.0</td>\n",
       "      <td>31.920</td>\n",
       "      <td>0.0</td>\n",
       "      <td>2205.98080</td>\n",
       "    </tr>\n",
       "    <tr>\n",
       "      <th>1335</th>\n",
       "      <td>0.0</td>\n",
       "      <td>0.0</td>\n",
       "      <td>0.0</td>\n",
       "      <td>1.0</td>\n",
       "      <td>0.0</td>\n",
       "      <td>18.0</td>\n",
       "      <td>36.850</td>\n",
       "      <td>0.0</td>\n",
       "      <td>1629.83350</td>\n",
       "    </tr>\n",
       "    <tr>\n",
       "      <th>1336</th>\n",
       "      <td>0.0</td>\n",
       "      <td>0.0</td>\n",
       "      <td>0.0</td>\n",
       "      <td>0.0</td>\n",
       "      <td>1.0</td>\n",
       "      <td>21.0</td>\n",
       "      <td>25.800</td>\n",
       "      <td>0.0</td>\n",
       "      <td>2007.94500</td>\n",
       "    </tr>\n",
       "    <tr>\n",
       "      <th>1337</th>\n",
       "      <td>0.0</td>\n",
       "      <td>1.0</td>\n",
       "      <td>1.0</td>\n",
       "      <td>0.0</td>\n",
       "      <td>0.0</td>\n",
       "      <td>61.0</td>\n",
       "      <td>29.070</td>\n",
       "      <td>0.0</td>\n",
       "      <td>29141.36030</td>\n",
       "    </tr>\n",
       "  </tbody>\n",
       "</table>\n",
       "<p>1338 rows × 9 columns</p>\n",
       "</div>"
      ],
      "text/plain": [
       "        0    1    2    3    4     5       6    7            8\n",
       "0     0.0  1.0  0.0  0.0  1.0  19.0  27.900  0.0  16884.92400\n",
       "1     1.0  0.0  0.0  1.0  0.0  18.0  33.770  1.0   1725.55230\n",
       "2     1.0  0.0  0.0  1.0  0.0  28.0  33.000  3.0   4449.46200\n",
       "3     1.0  0.0  1.0  0.0  0.0  33.0  22.705  0.0  21984.47061\n",
       "4     1.0  0.0  1.0  0.0  0.0  32.0  28.880  0.0   3866.85520\n",
       "...   ...  ...  ...  ...  ...   ...     ...  ...          ...\n",
       "1333  1.0  0.0  1.0  0.0  0.0  50.0  30.970  3.0  10600.54830\n",
       "1334  0.0  0.0  0.0  0.0  0.0  18.0  31.920  0.0   2205.98080\n",
       "1335  0.0  0.0  0.0  1.0  0.0  18.0  36.850  0.0   1629.83350\n",
       "1336  0.0  0.0  0.0  0.0  1.0  21.0  25.800  0.0   2007.94500\n",
       "1337  0.0  1.0  1.0  0.0  0.0  61.0  29.070  0.0  29141.36030\n",
       "\n",
       "[1338 rows x 9 columns]"
      ]
     },
     "execution_count": 14,
     "metadata": {},
     "output_type": "execute_result"
    }
   ],
   "source": [
    "clean_df= pd.DataFrame(df)\n",
    "clean_df"
   ]
  },
  {
   "cell_type": "code",
   "execution_count": 15,
   "metadata": {},
   "outputs": [
    {
     "data": {
      "text/html": [
       "<div>\n",
       "<style scoped>\n",
       "    .dataframe tbody tr th:only-of-type {\n",
       "        vertical-align: middle;\n",
       "    }\n",
       "\n",
       "    .dataframe tbody tr th {\n",
       "        vertical-align: top;\n",
       "    }\n",
       "\n",
       "    .dataframe thead th {\n",
       "        text-align: right;\n",
       "    }\n",
       "</style>\n",
       "<table border=\"1\" class=\"dataframe\">\n",
       "  <thead>\n",
       "    <tr style=\"text-align: right;\">\n",
       "      <th></th>\n",
       "      <th>0</th>\n",
       "      <th>1</th>\n",
       "      <th>2</th>\n",
       "      <th>3</th>\n",
       "      <th>4</th>\n",
       "      <th>5</th>\n",
       "      <th>6</th>\n",
       "      <th>7</th>\n",
       "      <th>8</th>\n",
       "    </tr>\n",
       "  </thead>\n",
       "  <tbody>\n",
       "    <tr>\n",
       "      <th>0</th>\n",
       "      <td>0.0</td>\n",
       "      <td>1.0</td>\n",
       "      <td>0.0</td>\n",
       "      <td>0.0</td>\n",
       "      <td>1.0</td>\n",
       "      <td>19.0</td>\n",
       "      <td>27.900</td>\n",
       "      <td>0.0</td>\n",
       "      <td>16884.92400</td>\n",
       "    </tr>\n",
       "    <tr>\n",
       "      <th>1</th>\n",
       "      <td>1.0</td>\n",
       "      <td>0.0</td>\n",
       "      <td>0.0</td>\n",
       "      <td>1.0</td>\n",
       "      <td>0.0</td>\n",
       "      <td>18.0</td>\n",
       "      <td>33.770</td>\n",
       "      <td>1.0</td>\n",
       "      <td>1725.55230</td>\n",
       "    </tr>\n",
       "    <tr>\n",
       "      <th>2</th>\n",
       "      <td>1.0</td>\n",
       "      <td>0.0</td>\n",
       "      <td>0.0</td>\n",
       "      <td>1.0</td>\n",
       "      <td>0.0</td>\n",
       "      <td>28.0</td>\n",
       "      <td>33.000</td>\n",
       "      <td>3.0</td>\n",
       "      <td>4449.46200</td>\n",
       "    </tr>\n",
       "    <tr>\n",
       "      <th>3</th>\n",
       "      <td>1.0</td>\n",
       "      <td>0.0</td>\n",
       "      <td>1.0</td>\n",
       "      <td>0.0</td>\n",
       "      <td>0.0</td>\n",
       "      <td>33.0</td>\n",
       "      <td>22.705</td>\n",
       "      <td>0.0</td>\n",
       "      <td>21984.47061</td>\n",
       "    </tr>\n",
       "    <tr>\n",
       "      <th>4</th>\n",
       "      <td>1.0</td>\n",
       "      <td>0.0</td>\n",
       "      <td>1.0</td>\n",
       "      <td>0.0</td>\n",
       "      <td>0.0</td>\n",
       "      <td>32.0</td>\n",
       "      <td>28.880</td>\n",
       "      <td>0.0</td>\n",
       "      <td>3866.85520</td>\n",
       "    </tr>\n",
       "    <tr>\n",
       "      <th>...</th>\n",
       "      <td>...</td>\n",
       "      <td>...</td>\n",
       "      <td>...</td>\n",
       "      <td>...</td>\n",
       "      <td>...</td>\n",
       "      <td>...</td>\n",
       "      <td>...</td>\n",
       "      <td>...</td>\n",
       "      <td>...</td>\n",
       "    </tr>\n",
       "    <tr>\n",
       "      <th>1333</th>\n",
       "      <td>1.0</td>\n",
       "      <td>0.0</td>\n",
       "      <td>1.0</td>\n",
       "      <td>0.0</td>\n",
       "      <td>0.0</td>\n",
       "      <td>50.0</td>\n",
       "      <td>30.970</td>\n",
       "      <td>3.0</td>\n",
       "      <td>10600.54830</td>\n",
       "    </tr>\n",
       "    <tr>\n",
       "      <th>1334</th>\n",
       "      <td>0.0</td>\n",
       "      <td>0.0</td>\n",
       "      <td>0.0</td>\n",
       "      <td>0.0</td>\n",
       "      <td>0.0</td>\n",
       "      <td>18.0</td>\n",
       "      <td>31.920</td>\n",
       "      <td>0.0</td>\n",
       "      <td>2205.98080</td>\n",
       "    </tr>\n",
       "    <tr>\n",
       "      <th>1335</th>\n",
       "      <td>0.0</td>\n",
       "      <td>0.0</td>\n",
       "      <td>0.0</td>\n",
       "      <td>1.0</td>\n",
       "      <td>0.0</td>\n",
       "      <td>18.0</td>\n",
       "      <td>36.850</td>\n",
       "      <td>0.0</td>\n",
       "      <td>1629.83350</td>\n",
       "    </tr>\n",
       "    <tr>\n",
       "      <th>1336</th>\n",
       "      <td>0.0</td>\n",
       "      <td>0.0</td>\n",
       "      <td>0.0</td>\n",
       "      <td>0.0</td>\n",
       "      <td>1.0</td>\n",
       "      <td>21.0</td>\n",
       "      <td>25.800</td>\n",
       "      <td>0.0</td>\n",
       "      <td>2007.94500</td>\n",
       "    </tr>\n",
       "    <tr>\n",
       "      <th>1337</th>\n",
       "      <td>0.0</td>\n",
       "      <td>1.0</td>\n",
       "      <td>1.0</td>\n",
       "      <td>0.0</td>\n",
       "      <td>0.0</td>\n",
       "      <td>61.0</td>\n",
       "      <td>29.070</td>\n",
       "      <td>0.0</td>\n",
       "      <td>29141.36030</td>\n",
       "    </tr>\n",
       "  </tbody>\n",
       "</table>\n",
       "<p>1309 rows × 9 columns</p>\n",
       "</div>"
      ],
      "text/plain": [
       "        0    1    2    3    4     5       6    7            8\n",
       "0     0.0  1.0  0.0  0.0  1.0  19.0  27.900  0.0  16884.92400\n",
       "1     1.0  0.0  0.0  1.0  0.0  18.0  33.770  1.0   1725.55230\n",
       "2     1.0  0.0  0.0  1.0  0.0  28.0  33.000  3.0   4449.46200\n",
       "3     1.0  0.0  1.0  0.0  0.0  33.0  22.705  0.0  21984.47061\n",
       "4     1.0  0.0  1.0  0.0  0.0  32.0  28.880  0.0   3866.85520\n",
       "...   ...  ...  ...  ...  ...   ...     ...  ...          ...\n",
       "1333  1.0  0.0  1.0  0.0  0.0  50.0  30.970  3.0  10600.54830\n",
       "1334  0.0  0.0  0.0  0.0  0.0  18.0  31.920  0.0   2205.98080\n",
       "1335  0.0  0.0  0.0  1.0  0.0  18.0  36.850  0.0   1629.83350\n",
       "1336  0.0  0.0  0.0  0.0  1.0  21.0  25.800  0.0   2007.94500\n",
       "1337  0.0  1.0  1.0  0.0  0.0  61.0  29.070  0.0  29141.36030\n",
       "\n",
       "[1309 rows x 9 columns]"
      ]
     },
     "execution_count": 15,
     "metadata": {},
     "output_type": "execute_result"
    }
   ],
   "source": [
    "df_no_outliers=clean_df[(z<=3).all(axis=1)]\n",
    "df_no_outliers"
   ]
  },
  {
   "cell_type": "raw",
   "metadata": {},
   "source": [
    "Splitting dataset into independent and dependent variable"
   ]
  },
  {
   "cell_type": "code",
   "execution_count": 16,
   "metadata": {
    "scrolled": true
   },
   "outputs": [
    {
     "data": {
      "text/plain": [
       "array([[ 0.  ,  1.  ,  0.  , ..., 19.  , 27.9 ,  0.  ],\n",
       "       [ 1.  ,  0.  ,  0.  , ..., 18.  , 33.77,  1.  ],\n",
       "       [ 1.  ,  0.  ,  0.  , ..., 28.  , 33.  ,  3.  ],\n",
       "       ...,\n",
       "       [ 0.  ,  0.  ,  0.  , ..., 18.  , 36.85,  0.  ],\n",
       "       [ 0.  ,  0.  ,  0.  , ..., 21.  , 25.8 ,  0.  ],\n",
       "       [ 0.  ,  1.  ,  1.  , ..., 61.  , 29.07,  0.  ]])"
      ]
     },
     "execution_count": 16,
     "metadata": {},
     "output_type": "execute_result"
    }
   ],
   "source": [
    "X=df_no_outliers.iloc[:,:-1].values\n",
    "X"
   ]
  },
  {
   "cell_type": "code",
   "execution_count": 17,
   "metadata": {},
   "outputs": [
    {
     "data": {
      "text/plain": [
       "array([16884.924 ,  1725.5523,  4449.462 , ...,  1629.8335,  2007.945 ,\n",
       "       29141.3603])"
      ]
     },
     "execution_count": 17,
     "metadata": {},
     "output_type": "execute_result"
    }
   ],
   "source": [
    "Y=df_no_outliers.iloc[:,-1].values\n",
    "Y"
   ]
  },
  {
   "cell_type": "raw",
   "metadata": {},
   "source": [
    "Splitting into training set and test set"
   ]
  },
  {
   "cell_type": "code",
   "execution_count": 18,
   "metadata": {},
   "outputs": [],
   "source": [
    "from sklearn.model_selection import train_test_split\n"
   ]
  },
  {
   "cell_type": "code",
   "execution_count": 19,
   "metadata": {},
   "outputs": [],
   "source": [
    "(X_train,X_test,Y_train,Y_test)=train_test_split(X,Y,test_size=0.2,random_state=0)"
   ]
  },
  {
   "cell_type": "code",
   "execution_count": 20,
   "metadata": {},
   "outputs": [
    {
     "data": {
      "text/plain": [
       "(1047, 8)"
      ]
     },
     "execution_count": 20,
     "metadata": {},
     "output_type": "execute_result"
    }
   ],
   "source": [
    "X_train.shape"
   ]
  },
  {
   "cell_type": "code",
   "execution_count": 21,
   "metadata": {},
   "outputs": [
    {
     "data": {
      "text/plain": [
       "(262, 8)"
      ]
     },
     "execution_count": 21,
     "metadata": {},
     "output_type": "execute_result"
    }
   ],
   "source": [
    "X_test.shape"
   ]
  },
  {
   "cell_type": "code",
   "execution_count": 22,
   "metadata": {},
   "outputs": [
    {
     "data": {
      "text/plain": [
       "(1047,)"
      ]
     },
     "execution_count": 22,
     "metadata": {},
     "output_type": "execute_result"
    }
   ],
   "source": [
    "Y_train.shape"
   ]
  },
  {
   "cell_type": "code",
   "execution_count": 23,
   "metadata": {},
   "outputs": [
    {
     "data": {
      "text/plain": [
       "(262,)"
      ]
     },
     "execution_count": 23,
     "metadata": {},
     "output_type": "execute_result"
    }
   ],
   "source": [
    "Y_test.shape"
   ]
  },
  {
   "cell_type": "markdown",
   "metadata": {},
   "source": [
    "# Using multilinear regression"
   ]
  },
  {
   "cell_type": "code",
   "execution_count": 24,
   "metadata": {},
   "outputs": [],
   "source": [
    "from sklearn.linear_model import LinearRegression"
   ]
  },
  {
   "cell_type": "code",
   "execution_count": 25,
   "metadata": {},
   "outputs": [
    {
     "data": {
      "text/plain": [
       "LinearRegression()"
      ]
     },
     "execution_count": 25,
     "metadata": {},
     "output_type": "execute_result"
    }
   ],
   "source": [
    "lr=LinearRegression()\n",
    "lr.fit(X_train,Y_train)"
   ]
  },
  {
   "cell_type": "code",
   "execution_count": 26,
   "metadata": {},
   "outputs": [],
   "source": [
    "y_pred=lr.predict(X_test)"
   ]
  },
  {
   "cell_type": "code",
   "execution_count": 27,
   "metadata": {
    "collapsed": true
   },
   "outputs": [
    {
     "data": {
      "text/plain": [
       "array([ 2315.07126773,  3905.17086364, 14262.50792259,  7087.68662254,\n",
       "       13557.2104806 , 12926.3163226 ,  3471.74542868,   531.66995661,\n",
       "       15376.78741959,  5961.84042146, 11091.29900675,  1038.62627241,\n",
       "        5825.27056799,  5827.45187585, 36004.67743698, 26715.64851828,\n",
       "       34260.10097707,  1676.80278412,  5343.12760483, 14925.17725951,\n",
       "        5569.08880672, 13698.4286511 ,  4884.00364843, 26340.93770563,\n",
       "        2979.73296632,  2219.28617577,  5322.00522029,  6316.91484342,\n",
       "       14662.24678614, 30452.30311078,  8799.82124754,  6715.71713562,\n",
       "        4411.67047539, 10056.96538347, 12152.66169525, 14374.04834497,\n",
       "       11235.80210038,  9096.41335891,  7617.90843909,  9704.08950784,\n",
       "       35944.08885415, 14819.01667603,  7944.22782105, 32436.31524887,\n",
       "       36080.3152829 , 11918.46039635, 14824.68234484,  9120.90572037,\n",
       "       11570.72934378,  7825.22660723, 12809.86780703, 14061.97593977,\n",
       "        3742.08982591, 37893.16185871,  6361.27503242, 11537.84684014,\n",
       "       28717.84848701, 33565.3402406 ,  3352.74323437,  3314.2486006 ,\n",
       "       36733.54247338,  6362.65711824, 10103.9102379 ,  2422.00133679,\n",
       "        8868.436789  ,  2853.96535318,  6398.20804905,  9997.48308817,\n",
       "       12842.70036037, 11558.74831132,  4707.28956253, 14863.97717537,\n",
       "       30284.13540716,  3128.7444953 , 35471.00743548, 15311.2493669 ,\n",
       "        4224.63216065, 25158.37638639,  6134.64645612,  5068.5742879 ,\n",
       "       10897.27000409, 12202.60518854,  2083.67016412, 31469.66785755,\n",
       "       27514.63888823, 12472.19172965,  4073.59755881, 10993.32002013,\n",
       "       10609.5328193 ,  6141.94543935, 12817.52685924,  4489.18228182,\n",
       "        7350.59221922, 10047.79393491, 12776.59670999, 34189.42422783,\n",
       "        7350.26976471,  2075.70268613,  2634.20550954,  8532.42103749,\n",
       "       12492.76675061,  8872.5534687 , 37644.46280707,  8709.71357333,\n",
       "       11636.83306165, 29544.28810724,  3678.38245715, 11709.64254287,\n",
       "       34574.26802056,  9911.65445623, 14910.93275703,  6325.58369007,\n",
       "        4990.55434098, 10273.36908155,  6763.10097641,   229.91620044,\n",
       "        6080.26312863, 40258.04491752, 17069.18471014, 13563.59598198,\n",
       "        8300.23864264,  3974.56932512, 38873.35500514, 29361.12842462,\n",
       "        1873.85021741,  6175.48303828, 27959.51365221,  4054.51969081,\n",
       "       10960.91524171,  4204.91947336,  9341.52794865,  6891.03032443,\n",
       "       11074.61890928,  8575.00142101, 30946.88600924, 12998.22449202,\n",
       "        6677.95038801, 28657.41800293, 10010.90464987,  9329.11211955,\n",
       "       31106.32038154, 25606.87656646,  1293.1131931 ,  -721.82293996,\n",
       "       11418.54157169, 26115.77911181,  7130.44662224, 33318.55581745,\n",
       "       10195.382139  , 15908.0254376 , 26596.86779531, 14815.3501665 ,\n",
       "       14572.51916123,  6197.27936691, 17616.24732142,  8933.39894292,\n",
       "        3979.81217472,  7292.48039231,  3056.32656599,  1913.13184644,\n",
       "       15676.13970549,  7215.47730855, 16255.52164606, 29555.19600519,\n",
       "       30343.90860654,  6353.71195859, 33675.2441202 ,  8378.87770681,\n",
       "       31908.23961076,  5712.36606574,  6545.12093825, 29922.0387317 ,\n",
       "        8303.69156453,  5963.68903182,  9007.56216877, 19327.62274513,\n",
       "        6181.7713466 , 10243.27017552, 12074.35174384, 13659.7181839 ,\n",
       "        6354.82148788, 38299.78767962, 25589.15732867, 32946.54810637,\n",
       "       14740.02008466,  3559.69481077, 36253.55719839,  7221.86782236,\n",
       "        2671.07794659,  2525.81438631, 15763.90135608, 11074.37118244,\n",
       "       13007.29578325, 12762.36951923, 30581.52976657, 13686.25176919,\n",
       "       14726.96078709, 11411.90022552, 36838.16686938, 34236.47494362,\n",
       "        9777.58879701,  7450.79465511, 14654.7422537 ,  9127.10349025,\n",
       "       13106.28654373, 10796.31988631, 11572.7629459 , 11713.77050277,\n",
       "        5239.32528253, 34090.29425501,  5317.82543973, 10613.78896972,\n",
       "       13467.02239381, 12391.80844739, 10802.29329433,  7285.38788574,\n",
       "       12072.75057544, 16079.51193432, 10083.59677653, 11161.14043955,\n",
       "       -1758.30619019,  4133.92789131,  9931.48833143,  4113.52017489,\n",
       "       11868.93401248,  8833.86904588, 39255.16436789, 13882.10145776,\n",
       "       38417.56946585, 12649.15156799, 15008.85778593, 16070.84304644,\n",
       "       17290.25959975, 34214.9782044 , 13335.16662998,  3403.6248262 ,\n",
       "        8395.96255143, 30365.11534127, 10507.51750744, 10922.32843808,\n",
       "       35556.10460366,  1235.43215771,  6845.62069039,  5784.48078905,\n",
       "        8008.84462895, 10810.68682691, 17629.07724107, 11508.93609754,\n",
       "       32349.60049044,  8990.04530855, 13787.87249737, 31737.40330825,\n",
       "         831.19820595, 35534.8871417 ,  5387.70852971,  4703.33352336,\n",
       "        8307.14098465, 12673.86107696,  3616.32221277, 12829.43970729,\n",
       "       15429.36737289,  7199.1588605 ])"
      ]
     },
     "execution_count": 27,
     "metadata": {},
     "output_type": "execute_result"
    }
   ],
   "source": [
    "y_pred"
   ]
  },
  {
   "cell_type": "code",
   "execution_count": 28,
   "metadata": {
    "collapsed": true
   },
   "outputs": [
    {
     "data": {
      "text/plain": [
       "array([ 2200.83085 ,  3056.3881  , 12643.3778  ,  4433.9159  ,\n",
       "       14988.432   , 10806.839   ,  3756.6216  ,  1615.7667  ,\n",
       "       13822.803   ,  4661.28635 , 27346.04207 ,  2103.08    ,\n",
       "        4243.59005 ,  5472.449   , 43921.1837  , 17942.106   ,\n",
       "       26109.32905 ,  2198.18985 ,  4883.866   , 13974.45555 ,\n",
       "        1146.7966  , 12244.531   ,  2904.088   , 34303.1672  ,\n",
       "        2104.1134  ,  2597.779   ,  2498.4144  ,  5383.536   ,\n",
       "        8569.8618  , 21472.4788  ,  6238.298   ,  5152.134   ,\n",
       "       14133.03775 ,  9225.2564  , 10407.08585 , 13019.16105 ,\n",
       "       12124.9924  ,  8059.6791  ,  5327.40025 ,  5979.731   ,\n",
       "       43813.8661  , 14692.66935 ,  5012.471   , 39983.42595 ,\n",
       "       44202.6536  , 14254.6082  ,  9704.66805 ,  5138.2567  ,\n",
       "       10704.47    ,  5425.02335 , 13224.693   , 11945.1327  ,\n",
       "        2250.8352  , 46661.4424  ,  3659.346   , 11554.2236  ,\n",
       "       37133.8982  , 40182.246   ,  3484.331   ,  1748.774   ,\n",
       "       46113.511   ,  3556.9223  , 11345.519   ,  1720.3537  ,\n",
       "        8515.7587  ,  1769.53165 , 18804.7524  ,  8615.3     ,\n",
       "        9048.0273  , 10264.4421  ,  1633.0444  ,  9800.8882  ,\n",
       "       21223.6758  , 11272.33139 , 44423.803   , 10602.385   ,\n",
       "        2134.9015  , 17352.6803  ,  4889.0368  , 26018.95052 ,\n",
       "        9617.66245 , 28476.73499 ,  1622.1885  , 38709.176   ,\n",
       "       35595.5898  , 11881.358   ,  4032.2407  ,  7731.85785 ,\n",
       "        5972.378   ,  5966.8874  , 28468.91901 , 10795.93733 ,\n",
       "        6414.178   ,  6781.3542  ,  9964.06    , 40720.55105 ,\n",
       "        6770.1925  ,  3594.17085 ,  7323.734819,  8026.6666  ,\n",
       "       12913.9924  ,  3875.7341  , 45710.20785 ,  4518.82625 ,\n",
       "       12797.20962 , 19594.80965 ,  1725.5523  ,  8023.13545 ,\n",
       "       42983.4585  , 10355.641   , 12648.7034  ,  4349.462   ,\n",
       "        2138.0707  ,  8606.2174  ,  5031.26955 ,  2201.0971  ,\n",
       "        7526.70645 , 48549.17835 , 14418.2804  , 12730.9996  ,\n",
       "        4949.7587  ,  2207.69745 , 47896.79135 , 35491.64    ,\n",
       "        1131.5066  ,  4746.344   , 18259.216   ,  3392.3652  ,\n",
       "       11150.78    ,  3213.62205 ,  3989.841   ,  4922.9159  ,\n",
       "        8968.33    ,  6746.7425  , 39611.7577  ,  8978.1851  ,\n",
       "        3857.75925 , 36124.5737  , 22192.43711 , 10791.96    ,\n",
       "       22144.032   , 32734.1863  ,  2913.569   ,  1242.26    ,\n",
       "       28923.13692 , 33750.2918  ,  4837.5823  , 40941.2854  ,\n",
       "       12475.3513  , 11033.6617  , 34166.273   , 11944.59435 ,\n",
       "       14043.4767  ,  1149.3959  , 13063.883   ,  4673.3922  ,\n",
       "        4133.64165 ,  3766.8838  ,  1136.3994  ,  1815.8759  ,\n",
       "        9549.5651  ,  2755.02095 , 13470.86    , 20745.9891  ,\n",
       "       20773.62775 ,  3292.52985 , 24915.22085 ,  7626.993   ,\n",
       "       38415.474   ,  5415.6612  ,  4347.02335 , 21348.706   ,\n",
       "        8442.667   , 16796.41194 ,  6406.4107  , 15555.18875 ,\n",
       "       12890.05765 ,  9715.841   ,  4686.3887  , 12268.63225 ,\n",
       "        4151.0287  , 47269.854   , 17178.6824  , 39125.33225 ,\n",
       "       11856.4115  ,  2205.9808  , 44260.7499  ,  8269.044   ,\n",
       "        1256.299   ,  2396.0959  , 12646.207   , 18806.14547 ,\n",
       "        6610.1097  ,  9722.7695  , 20984.0936  , 11289.10925 ,\n",
       "       28287.89766 ,  6373.55735 , 44641.1974  , 25382.297   ,\n",
       "        7512.267   ,  6858.4796  , 13393.756   ,  8516.829   ,\n",
       "       10435.06525 , 11729.6795  , 10231.4999  ,  8527.532   ,\n",
       "        4350.5144  , 26926.5144  ,  3227.1211  ,  6600.20595 ,\n",
       "        6356.2707  ,  9872.701   , 24513.09126 ,  5969.723   ,\n",
       "       11658.37915 , 12950.0712  , 25656.57526 ,  9414.92    ,\n",
       "        1727.785   ,  4719.52405 ,  3994.1778  ,  2866.091   ,\n",
       "        8334.45755 , 28340.18885 , 48970.2476  , 13390.559   ,\n",
       "       47462.894   ,  5757.41345 , 13430.265   , 15612.19335 ,\n",
       "       11576.13    , 41949.2441  , 11512.405   , 22395.74424 ,\n",
       "        6457.8434  , 21082.16    ,  7418.522   ,  9910.35985 ,\n",
       "       29330.98315 ,  2709.1119  ,  6593.5083  ,  4435.0942  ,\n",
       "        5375.038   ,  7261.741   , 14901.5167  , 24476.47851 ,\n",
       "       39871.7043  ,  6112.35295 , 10713.644   , 22462.04375 ,\n",
       "        3180.5101  , 29141.3603  ,  3579.8287  ,  2136.88225 ,\n",
       "        8534.6718  , 11842.62375 ,  1909.52745 , 12638.195   ,\n",
       "        9058.7303  ,  6985.50695 ])"
      ]
     },
     "execution_count": 28,
     "metadata": {},
     "output_type": "execute_result"
    }
   ],
   "source": [
    "Y_test"
   ]
  },
  {
   "cell_type": "code",
   "execution_count": 29,
   "metadata": {},
   "outputs": [
    {
     "data": {
      "text/plain": [
       "0.7866370624891946"
      ]
     },
     "execution_count": 29,
     "metadata": {},
     "output_type": "execute_result"
    }
   ],
   "source": [
    "from sklearn.metrics import r2_score      \n",
    "r2_score(Y_test,y_pred)"
   ]
  },
  {
   "cell_type": "markdown",
   "metadata": {},
   "source": [
    "# Using decision tree"
   ]
  },
  {
   "cell_type": "code",
   "execution_count": 30,
   "metadata": {},
   "outputs": [
    {
     "data": {
      "text/html": [
       "<div>\n",
       "<style scoped>\n",
       "    .dataframe tbody tr th:only-of-type {\n",
       "        vertical-align: middle;\n",
       "    }\n",
       "\n",
       "    .dataframe tbody tr th {\n",
       "        vertical-align: top;\n",
       "    }\n",
       "\n",
       "    .dataframe thead th {\n",
       "        text-align: right;\n",
       "    }\n",
       "</style>\n",
       "<table border=\"1\" class=\"dataframe\">\n",
       "  <thead>\n",
       "    <tr style=\"text-align: right;\">\n",
       "      <th></th>\n",
       "      <th>0</th>\n",
       "      <th>1</th>\n",
       "      <th>2</th>\n",
       "      <th>3</th>\n",
       "      <th>4</th>\n",
       "      <th>5</th>\n",
       "      <th>6</th>\n",
       "      <th>7</th>\n",
       "      <th>8</th>\n",
       "    </tr>\n",
       "  </thead>\n",
       "  <tbody>\n",
       "    <tr>\n",
       "      <th>0</th>\n",
       "      <td>1.000000</td>\n",
       "      <td>0.079058</td>\n",
       "      <td>-0.006602</td>\n",
       "      <td>0.013987</td>\n",
       "      <td>-0.004798</td>\n",
       "      <td>-0.019253</td>\n",
       "      <td>0.042498</td>\n",
       "      <td>0.014056</td>\n",
       "      <td>0.059455</td>\n",
       "    </tr>\n",
       "    <tr>\n",
       "      <th>1</th>\n",
       "      <td>0.079058</td>\n",
       "      <td>1.000000</td>\n",
       "      <td>-0.040557</td>\n",
       "      <td>0.071776</td>\n",
       "      <td>-0.039005</td>\n",
       "      <td>-0.029090</td>\n",
       "      <td>-0.005288</td>\n",
       "      <td>0.028844</td>\n",
       "      <td>0.785129</td>\n",
       "    </tr>\n",
       "    <tr>\n",
       "      <th>2</th>\n",
       "      <td>-0.006602</td>\n",
       "      <td>-0.040557</td>\n",
       "      <td>1.000000</td>\n",
       "      <td>-0.346405</td>\n",
       "      <td>-0.321537</td>\n",
       "      <td>-0.003449</td>\n",
       "      <td>-0.134342</td>\n",
       "      <td>0.044948</td>\n",
       "      <td>-0.045847</td>\n",
       "    </tr>\n",
       "    <tr>\n",
       "      <th>3</th>\n",
       "      <td>0.013987</td>\n",
       "      <td>0.071776</td>\n",
       "      <td>-0.346405</td>\n",
       "      <td>1.000000</td>\n",
       "      <td>-0.341411</td>\n",
       "      <td>-0.014346</td>\n",
       "      <td>0.261014</td>\n",
       "      <td>-0.027381</td>\n",
       "      <td>0.074829</td>\n",
       "    </tr>\n",
       "    <tr>\n",
       "      <th>4</th>\n",
       "      <td>-0.004798</td>\n",
       "      <td>-0.039005</td>\n",
       "      <td>-0.321537</td>\n",
       "      <td>-0.341411</td>\n",
       "      <td>1.000000</td>\n",
       "      <td>0.013766</td>\n",
       "      <td>0.002552</td>\n",
       "      <td>0.001275</td>\n",
       "      <td>-0.042922</td>\n",
       "    </tr>\n",
       "    <tr>\n",
       "      <th>5</th>\n",
       "      <td>-0.019253</td>\n",
       "      <td>-0.029090</td>\n",
       "      <td>-0.003449</td>\n",
       "      <td>-0.014346</td>\n",
       "      <td>0.013766</td>\n",
       "      <td>1.000000</td>\n",
       "      <td>0.118178</td>\n",
       "      <td>0.059100</td>\n",
       "      <td>0.305263</td>\n",
       "    </tr>\n",
       "    <tr>\n",
       "      <th>6</th>\n",
       "      <td>0.042498</td>\n",
       "      <td>-0.005288</td>\n",
       "      <td>-0.134342</td>\n",
       "      <td>0.261014</td>\n",
       "      <td>0.002552</td>\n",
       "      <td>0.118178</td>\n",
       "      <td>1.000000</td>\n",
       "      <td>0.029916</td>\n",
       "      <td>0.191453</td>\n",
       "    </tr>\n",
       "    <tr>\n",
       "      <th>7</th>\n",
       "      <td>0.014056</td>\n",
       "      <td>0.028844</td>\n",
       "      <td>0.044948</td>\n",
       "      <td>-0.027381</td>\n",
       "      <td>0.001275</td>\n",
       "      <td>0.059100</td>\n",
       "      <td>0.029916</td>\n",
       "      <td>1.000000</td>\n",
       "      <td>0.100438</td>\n",
       "    </tr>\n",
       "    <tr>\n",
       "      <th>8</th>\n",
       "      <td>0.059455</td>\n",
       "      <td>0.785129</td>\n",
       "      <td>-0.045847</td>\n",
       "      <td>0.074829</td>\n",
       "      <td>-0.042922</td>\n",
       "      <td>0.305263</td>\n",
       "      <td>0.191453</td>\n",
       "      <td>0.100438</td>\n",
       "      <td>1.000000</td>\n",
       "    </tr>\n",
       "  </tbody>\n",
       "</table>\n",
       "</div>"
      ],
      "text/plain": [
       "          0         1         2         3         4         5         6  \\\n",
       "0  1.000000  0.079058 -0.006602  0.013987 -0.004798 -0.019253  0.042498   \n",
       "1  0.079058  1.000000 -0.040557  0.071776 -0.039005 -0.029090 -0.005288   \n",
       "2 -0.006602 -0.040557  1.000000 -0.346405 -0.321537 -0.003449 -0.134342   \n",
       "3  0.013987  0.071776 -0.346405  1.000000 -0.341411 -0.014346  0.261014   \n",
       "4 -0.004798 -0.039005 -0.321537 -0.341411  1.000000  0.013766  0.002552   \n",
       "5 -0.019253 -0.029090 -0.003449 -0.014346  0.013766  1.000000  0.118178   \n",
       "6  0.042498 -0.005288 -0.134342  0.261014  0.002552  0.118178  1.000000   \n",
       "7  0.014056  0.028844  0.044948 -0.027381  0.001275  0.059100  0.029916   \n",
       "8  0.059455  0.785129 -0.045847  0.074829 -0.042922  0.305263  0.191453   \n",
       "\n",
       "          7         8  \n",
       "0  0.014056  0.059455  \n",
       "1  0.028844  0.785129  \n",
       "2  0.044948 -0.045847  \n",
       "3 -0.027381  0.074829  \n",
       "4  0.001275 -0.042922  \n",
       "5  0.059100  0.305263  \n",
       "6  0.029916  0.191453  \n",
       "7  1.000000  0.100438  \n",
       "8  0.100438  1.000000  "
      ]
     },
     "execution_count": 30,
     "metadata": {},
     "output_type": "execute_result"
    }
   ],
   "source": [
    "df_no_outliers.corr()"
   ]
  },
  {
   "cell_type": "code",
   "execution_count": 31,
   "metadata": {},
   "outputs": [
    {
     "data": {
      "text/plain": [
       "<AxesSubplot:>"
      ]
     },
     "execution_count": 31,
     "metadata": {},
     "output_type": "execute_result"
    },
    {
     "data": {
      "image/png": "[encoded data removed]",
      "text/plain": [
       "<Figure size 432x288 with 2 Axes>"
      ]
     },
     "metadata": {
      "needs_background": "light"
     },
     "output_type": "display_data"
    }
   ],
   "source": [
    "import seaborn as sns\n",
    "sns.heatmap(df_no_outliers.corr())"
   ]
  },
  {
   "cell_type": "code",
   "execution_count": 32,
   "metadata": {},
   "outputs": [],
   "source": [
    "from sklearn.tree import DecisionTreeRegressor\n",
    "dt=DecisionTreeRegressor(criterion='mse',random_state=0)"
   ]
  },
  {
   "cell_type": "code",
   "execution_count": 33,
   "metadata": {},
   "outputs": [
    {
     "data": {
      "text/plain": [
       "DecisionTreeRegressor(random_state=0)"
      ]
     },
     "execution_count": 33,
     "metadata": {},
     "output_type": "execute_result"
    }
   ],
   "source": [
    "dt.fit(X_train,Y_train)"
   ]
  },
  {
   "cell_type": "code",
   "execution_count": 34,
   "metadata": {
    "collapsed": true
   },
   "outputs": [
    {
     "data": {
      "text/plain": [
       "array([ 2196.4732  ,  2801.2588  , 12269.68865 ,  4433.3877  ,\n",
       "       16455.70785 , 26467.09737 ,  3757.8448  ,  2196.4732  ,\n",
       "       14410.9321  ,  3906.127   ,  9487.6442  ,  2102.2647  ,\n",
       "        4454.40265 ,  5266.3656  , 43254.41795 , 16232.847   ,\n",
       "       27218.43725 ,  2196.4732  ,  5266.3656  , 13981.85035 ,\n",
       "        1141.4451  , 11363.2832  ,  3490.5491  , 36397.576   ,\n",
       "        1967.0227  ,  2585.269   ,  2497.0383  ,  5649.715   ,\n",
       "        8083.9198  , 19199.944   ,  5649.715   ,  4670.64    ,\n",
       "        1631.8212  ,  9282.4806  , 10736.87075 , 12430.95335 ,\n",
       "       11743.299   ,  8252.2843  ,  6128.79745 ,  6358.77645 ,\n",
       "       41919.097   , 14210.53595 ,  5246.047   , 39047.285   ,\n",
       "       46151.1245  , 14256.1928  , 19144.57652 ,  4449.462   ,\n",
       "       11674.13    ,  4433.3877  , 13112.6048  , 11356.6609  ,\n",
       "        2639.0429  , 45702.02235 ,  3062.50825 , 10594.2257  ,\n",
       "       36149.4835  , 39047.285   ,  3077.0955  ,  2130.6759  ,\n",
       "       43753.33705 ,  3172.018   , 11534.87265 , 11774.159275,\n",
       "        7726.854   ,  1906.35825 ,  4618.0799  ,  7726.854   ,\n",
       "        9304.7019  , 10269.46    ,  1633.9618  ,  8871.1517  ,\n",
       "       21978.6769  ,  1719.4363  , 43254.41795 , 11090.7178  ,\n",
       "        1727.54    , 16450.8947  ,  5478.0368  ,  3393.35635 ,\n",
       "        9957.7216  ,  6571.02435 ,  1877.9294  , 39774.2763  ,\n",
       "       36189.1017  , 12096.6512  , 17626.23951 ,  7421.19455 ,\n",
       "        6334.34355 ,  6358.77645 ,  8671.19125 ,  2899.48935 ,\n",
       "        7228.21565 ,  6289.7549  , 25333.33284 , 38998.546   ,\n",
       "        5484.4673  ,  3956.07145 ,  2196.4732  ,  9447.3824  ,\n",
       "       11743.299   ,  3471.4096  , 46718.16325 , 12404.8791  ,\n",
       "        7325.0482  , 19964.7463  ,  1135.9407  ,  7935.29115 ,\n",
       "       48885.13561 , 25517.11363 , 13228.84695 ,  4753.6368  ,\n",
       "        2404.7338  ,  7726.854   , 20177.67113 ,  2709.24395 ,\n",
       "        7147.105   , 46255.1125  , 31620.00106 , 12557.6053  ,\n",
       "        4753.6368  , 23082.95533 , 48517.56315 , 37079.372   ,\n",
       "       11774.159275,  5003.853   , 19361.9988  ,  3392.9768  ,\n",
       "       12479.70895 ,  2464.6188  ,  4795.6568  ,  6128.79745 ,\n",
       "        9620.3307  ,  6548.19505 , 38126.2465  ,  9304.7019  ,\n",
       "        4357.04365 , 36021.0112  , 10959.33    , 10577.087   ,\n",
       "       39725.51805 , 16776.30405 , 11884.04858 ,  1242.816   ,\n",
       "       13012.20865 , 33307.5508  ,  5428.7277  , 40974.1649  ,\n",
       "       12094.478   ,  8733.22925 , 33907.548   , 11938.25595 ,\n",
       "       13457.9608  ,  1141.4451  , 13635.6379  ,  4670.64    ,\n",
       "        4337.7352  ,  2689.4954  ,  1135.9407  ,  1824.2854  ,\n",
       "        8871.1517  ,  2166.732   , 13470.8044  , 19933.458   ,\n",
       "       20009.63365 ,  3490.5491  , 24393.6224  ,  7624.63    ,\n",
       "       39047.285   ,  5484.4673  ,  4357.04365 , 38245.59327 ,\n",
       "       30284.64294 ,  3392.9768  ,  6203.90175 , 15230.32405 ,\n",
       "        1141.4451  , 10493.9458  ,  4670.64    , 29186.48236 ,\n",
       "        3366.6697  , 46255.1125  , 16297.846   , 40003.33225 ,\n",
       "       11365.952   ,  2203.73595 , 43254.41795 ,  7147.105   ,\n",
       "        1526.312   ,  2395.17155 , 33471.97189 , 19144.57652 ,\n",
       "        6393.60345 ,  9140.951   , 20009.63365 , 11488.31695 ,\n",
       "       11363.2832  ,  6555.07035 , 42856.838   , 24869.8368  ,\n",
       "        8162.71625 ,  5125.2157  , 13981.85035 ,  8027.968   ,\n",
       "        9850.432   , 12094.478   ,  9850.432   , 19144.57652 ,\n",
       "        4562.8421  , 25678.77845 ,  3577.999   ,  6393.60345 ,\n",
       "        6435.6237  , 10118.424   , 12629.8967  ,  6358.77645 ,\n",
       "       11286.5387  , 12741.16745 ,  9447.3824  ,  8825.086   ,\n",
       "        1728.897   , 21984.47061 ,  4536.259   ,  3353.284   ,\n",
       "        8334.5896  ,  7727.2532  , 48675.5177  , 13981.85035 ,\n",
       "       46255.1125  ,  6123.5688  , 29186.48236 , 14119.62    ,\n",
       "       24227.33724 , 39774.2763  , 10923.9332  , 14426.07385 ,\n",
       "        6455.86265 , 20149.3229  ,  8538.28845 , 11085.5868  ,\n",
       "       28950.4692  ,  2709.24395 ,  7160.3303  ,  4428.88785 ,\n",
       "        4889.9995  ,  7265.7025  , 14319.031   ,  9850.432   ,\n",
       "       39774.2763  ,  5028.1466  , 11674.13    , 43943.8761  ,\n",
       "       14426.07385 , 28868.6639  ,  3393.35635 ,  2404.7338  ,\n",
       "       26236.57997 , 11840.77505 ,  2643.2685  , 12644.589   ,\n",
       "        9304.7019  ,  6548.19505 ])"
      ]
     },
     "execution_count": 34,
     "metadata": {},
     "output_type": "execute_result"
    }
   ],
   "source": [
    "y_pred=dt.predict(X_test)\n",
    "y_pred"
   ]
  },
  {
   "cell_type": "code",
   "execution_count": 35,
   "metadata": {
    "collapsed": true
   },
   "outputs": [
    {
     "data": {
      "text/plain": [
       "array([ 2200.83085 ,  3056.3881  , 12643.3778  ,  4433.9159  ,\n",
       "       14988.432   , 10806.839   ,  3756.6216  ,  1615.7667  ,\n",
       "       13822.803   ,  4661.28635 , 27346.04207 ,  2103.08    ,\n",
       "        4243.59005 ,  5472.449   , 43921.1837  , 17942.106   ,\n",
       "       26109.32905 ,  2198.18985 ,  4883.866   , 13974.45555 ,\n",
       "        1146.7966  , 12244.531   ,  2904.088   , 34303.1672  ,\n",
       "        2104.1134  ,  2597.779   ,  2498.4144  ,  5383.536   ,\n",
       "        8569.8618  , 21472.4788  ,  6238.298   ,  5152.134   ,\n",
       "       14133.03775 ,  9225.2564  , 10407.08585 , 13019.16105 ,\n",
       "       12124.9924  ,  8059.6791  ,  5327.40025 ,  5979.731   ,\n",
       "       43813.8661  , 14692.66935 ,  5012.471   , 39983.42595 ,\n",
       "       44202.6536  , 14254.6082  ,  9704.66805 ,  5138.2567  ,\n",
       "       10704.47    ,  5425.02335 , 13224.693   , 11945.1327  ,\n",
       "        2250.8352  , 46661.4424  ,  3659.346   , 11554.2236  ,\n",
       "       37133.8982  , 40182.246   ,  3484.331   ,  1748.774   ,\n",
       "       46113.511   ,  3556.9223  , 11345.519   ,  1720.3537  ,\n",
       "        8515.7587  ,  1769.53165 , 18804.7524  ,  8615.3     ,\n",
       "        9048.0273  , 10264.4421  ,  1633.0444  ,  9800.8882  ,\n",
       "       21223.6758  , 11272.33139 , 44423.803   , 10602.385   ,\n",
       "        2134.9015  , 17352.6803  ,  4889.0368  , 26018.95052 ,\n",
       "        9617.66245 , 28476.73499 ,  1622.1885  , 38709.176   ,\n",
       "       35595.5898  , 11881.358   ,  4032.2407  ,  7731.85785 ,\n",
       "        5972.378   ,  5966.8874  , 28468.91901 , 10795.93733 ,\n",
       "        6414.178   ,  6781.3542  ,  9964.06    , 40720.55105 ,\n",
       "        6770.1925  ,  3594.17085 ,  7323.734819,  8026.6666  ,\n",
       "       12913.9924  ,  3875.7341  , 45710.20785 ,  4518.82625 ,\n",
       "       12797.20962 , 19594.80965 ,  1725.5523  ,  8023.13545 ,\n",
       "       42983.4585  , 10355.641   , 12648.7034  ,  4349.462   ,\n",
       "        2138.0707  ,  8606.2174  ,  5031.26955 ,  2201.0971  ,\n",
       "        7526.70645 , 48549.17835 , 14418.2804  , 12730.9996  ,\n",
       "        4949.7587  ,  2207.69745 , 47896.79135 , 35491.64    ,\n",
       "        1131.5066  ,  4746.344   , 18259.216   ,  3392.3652  ,\n",
       "       11150.78    ,  3213.62205 ,  3989.841   ,  4922.9159  ,\n",
       "        8968.33    ,  6746.7425  , 39611.7577  ,  8978.1851  ,\n",
       "        3857.75925 , 36124.5737  , 22192.43711 , 10791.96    ,\n",
       "       22144.032   , 32734.1863  ,  2913.569   ,  1242.26    ,\n",
       "       28923.13692 , 33750.2918  ,  4837.5823  , 40941.2854  ,\n",
       "       12475.3513  , 11033.6617  , 34166.273   , 11944.59435 ,\n",
       "       14043.4767  ,  1149.3959  , 13063.883   ,  4673.3922  ,\n",
       "        4133.64165 ,  3766.8838  ,  1136.3994  ,  1815.8759  ,\n",
       "        9549.5651  ,  2755.02095 , 13470.86    , 20745.9891  ,\n",
       "       20773.62775 ,  3292.52985 , 24915.22085 ,  7626.993   ,\n",
       "       38415.474   ,  5415.6612  ,  4347.02335 , 21348.706   ,\n",
       "        8442.667   , 16796.41194 ,  6406.4107  , 15555.18875 ,\n",
       "       12890.05765 ,  9715.841   ,  4686.3887  , 12268.63225 ,\n",
       "        4151.0287  , 47269.854   , 17178.6824  , 39125.33225 ,\n",
       "       11856.4115  ,  2205.9808  , 44260.7499  ,  8269.044   ,\n",
       "        1256.299   ,  2396.0959  , 12646.207   , 18806.14547 ,\n",
       "        6610.1097  ,  9722.7695  , 20984.0936  , 11289.10925 ,\n",
       "       28287.89766 ,  6373.55735 , 44641.1974  , 25382.297   ,\n",
       "        7512.267   ,  6858.4796  , 13393.756   ,  8516.829   ,\n",
       "       10435.06525 , 11729.6795  , 10231.4999  ,  8527.532   ,\n",
       "        4350.5144  , 26926.5144  ,  3227.1211  ,  6600.20595 ,\n",
       "        6356.2707  ,  9872.701   , 24513.09126 ,  5969.723   ,\n",
       "       11658.37915 , 12950.0712  , 25656.57526 ,  9414.92    ,\n",
       "        1727.785   ,  4719.52405 ,  3994.1778  ,  2866.091   ,\n",
       "        8334.45755 , 28340.18885 , 48970.2476  , 13390.559   ,\n",
       "       47462.894   ,  5757.41345 , 13430.265   , 15612.19335 ,\n",
       "       11576.13    , 41949.2441  , 11512.405   , 22395.74424 ,\n",
       "        6457.8434  , 21082.16    ,  7418.522   ,  9910.35985 ,\n",
       "       29330.98315 ,  2709.1119  ,  6593.5083  ,  4435.0942  ,\n",
       "        5375.038   ,  7261.741   , 14901.5167  , 24476.47851 ,\n",
       "       39871.7043  ,  6112.35295 , 10713.644   , 22462.04375 ,\n",
       "        3180.5101  , 29141.3603  ,  3579.8287  ,  2136.88225 ,\n",
       "        8534.6718  , 11842.62375 ,  1909.52745 , 12638.195   ,\n",
       "        9058.7303  ,  6985.50695 ])"
      ]
     },
     "execution_count": 35,
     "metadata": {},
     "output_type": "execute_result"
    }
   ],
   "source": [
    "Y_test"
   ]
  },
  {
   "cell_type": "code",
   "execution_count": 36,
   "metadata": {},
   "outputs": [
    {
     "data": {
      "text/plain": [
       "0.7407642425782768"
      ]
     },
     "execution_count": 36,
     "metadata": {},
     "output_type": "execute_result"
    }
   ],
   "source": [
    "from sklearn.metrics import r2_score    \n",
    "r2_score(Y_test,y_pred)"
   ]
  }
 ],
 "metadata": {
  "kernelspec": {
   "display_name": "Python 3",
   "language": "python",
   "name": "python3"
  },
  "language_info": {
   "codemirror_mode": {
    "name": "ipython",
    "version": 3
   },
   "file_extension": ".py",
   "mimetype": "text/x-python",
   "name": "python",
   "nbconvert_exporter": "python",
   "pygments_lexer": "ipython3",
   "version": "3.8.5"
  }
 },
 "nbformat": 4,
 "nbformat_minor": 4
}
